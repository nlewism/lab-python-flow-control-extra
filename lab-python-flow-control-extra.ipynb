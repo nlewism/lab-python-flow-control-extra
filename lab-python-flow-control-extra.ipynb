{
 "cells": [
  {
   "cell_type": "markdown",
   "id": "d3bfc191-8885-42ee-b0a0-bbab867c6f9f",
   "metadata": {
    "tags": []
   },
   "source": [
    "# Lab | Flow Control"
   ]
  },
  {
   "cell_type": "markdown",
   "id": "303cceb0-f898-4c5f-99bd-c04e131e1ded",
   "metadata": {},
   "source": [
    "Objective: Practice how to use programming constructs like if/else statements and loops to control the flow of a program's execution."
   ]
  },
  {
   "cell_type": "markdown",
   "id": "42fd260a-9eb2-4c39-9989-f2c8c70552ec",
   "metadata": {},
   "source": [
    "## Challenge: The Haunted Mansion"
   ]
  },
  {
   "cell_type": "markdown",
   "id": "7086f8f7-ded2-48e5-b966-7ec44fb57ca5",
   "metadata": {},
   "source": [
    "You are a brave adventurer who has decided to explore the Haunted Mansion, a decrepit old building that is rumored to be haunted by ghosts and spirits. Your objective is to find the treasure that is hidden somewhere in the mansion.\n",
    "\n",
    "## Requirements\n",
    "\n",
    "- Your script should have at least two functions: \"run_mansion()\" and \"encounter_ghost()\".\n",
    "- Your script should use if-else statements, while loops, for loops, combined loops, or nested loops to control the flow of execution.\n",
    "- Your script should prompt the user for input to make decisions on which path to take or what actions to perform.\n",
    "- Your script should include random events and obstacles that can either help or hinder the adventurer in their quest.\n",
    "- Your script should have an objective of finding the treasure at the end of the mansion.\n",
    "\n",
    "## Instructions\n",
    "\n",
    "- Begin by creating a list of items that the adventurer can pick up along the way. These items will be used to help the adventurer overcome obstacles and defeat ghosts. Examples of items can be weapons, potions, keys, etc.\n",
    "\n",
    "- Complete the function called \"run_mansion()\" that serves as the main function for the game. Within \"run_mansion()\", prompt the user to choose a path to take at each intersection. Each path should have its unique challenges and obstacles that the adventurer must overcome.\n",
    "\n",
    "- Use loops to check if the adventurer has enough health points to continue the game. If their health points drop to zero, the game is over.\n",
    "\n",
    "- Complete the function called \"encounter_ghost()\" that will be used to handle ghost encounters. The function should use random events to determine the outcome of the encounter, and the adventurer should use their items to help them defeat the ghost.\n",
    "\n",
    "- Use loops to generate random events or items along the way. These events can either help or hinder the adventurer, and the outcome should be based on random chance.\n",
    "\n",
    "- At the end of the mansion, the adventurer will find the treasure, and the game will end.\n",
    "\n"
   ]
  },
  {
   "cell_type": "markdown",
   "id": "8846d61d-cf9d-4ad4-bbb8-1ecb3bb22005",
   "metadata": {},
   "source": [
    "*Introduction to Functions*:\n",
    "\n",
    "    Functions are blocks of code that perform a specific task. They are used to break up complex code into smaller, more manageable parts, which can make your code easier to read and understand. Functions can also be reused multiple times throughout your code, which can save you a lot of time and effort.\n",
    "\n",
    "    Functions are defined using the def keyword, followed by the name of the function and a set of parentheses. Inside the parentheses, you can list any arguments that the function needs in order to perform its task. These arguments are optional, but they can be useful if you need to pass data into the function from outside.\n",
    "\n",
    "    Once you have defined a function, you can call it from anywhere in your code using its name and passing any necessary arguments. When the function is called, the code inside it is executed, and any values that it returns are passed back to the calling code.\n",
    "\n",
    "    In this exercise, we have defined a function called encounter_ghost that simulates a battle between the adventurer and a ghost, and run_mansion. Your task is to complete these functions by using flow control statements such as if, else, while, for loops, and nested loops. Remember to pay attention to the instructions and comments provided in the function to help guide you. Once you have completed the function encounter_ghost, you can call it from the main code to simulate the battle and test your implementation.\n",
    "\n",
    "    Good luck!"
   ]
  },
  {
   "cell_type": "code",
   "execution_count": null,
   "id": "56e31076",
   "metadata": {},
   "outputs": [],
   "source": [
    "import random\n",
    "items = [\"spell book\",\"health potion\",\"slimy dagger\",\"stamina potion\",\"treasure chest key\"]"
   ]
  },
  {
   "cell_type": "code",
   "execution_count": null,
   "id": "499552c8-9e30-46e1-a706-4ac5dc64670e",
   "metadata": {},
   "outputs": [],
   "source": [
    "def encounter_ghost(items):\n",
    "    \"\"\"Simulates a battle with a ghost.\"\"\"\n",
    "\n",
    "    print(\"You encounter a ghost!\")\n",
    "    outcome = random.randint(1, 10)\n",
    "    \n",
    "    if outcome <= 5 and 'slimy dagger' in items:\n",
    "        print(\"You defeated the ghost!\")\n",
    "        return True  # Player defeated the ghost\n",
    "    else:\n",
    "        print(\"You lost the battle with the ghost...\")\n",
    "        return False  # Ghost defeated the player"
   ]
  },
  {
   "cell_type": "code",
   "execution_count": null,
   "id": "2af6862d",
   "metadata": {},
   "outputs": [],
   "source": [
    "# Main function for the game\n",
    "\n",
    "def run_mansion():\n",
    "    \n",
    "    print(\"Welcome to the Haunted Mansion!\")\n",
    "     \n",
    "    \"\"\"Simulates an adventure through a haunted mansion. \n",
    "    The adventurer starts with 10 health points and no items.\"\"\" \n",
    "    \n",
    "    health_points = 10\n",
    "    items = []\n",
    "    \n",
    "    while health_points > 0:\n",
    "        print(f\"\\nCurrent Health Points: {health_points}\")\n",
    "        print(\"Choose a path: 'left' or 'right'\")\n",
    "        choice = input().lower()\n",
    "        if choice == 'left':\n",
    "            # Random event for the left path\n",
    "            if random.randint(1, 5) == 1:\n",
    "                print(\"You found a health potion!\")\n",
    "                health_points += 2\n",
    "            elif random.randint(1, 5) == 2:\n",
    "                print(\"You found a stamina potion.\")\n",
    "                health_points += 2\n",
    "            elif random.randint(1, 4) == 3:\n",
    "                print(\"You found a slimy dagger!\")\n",
    "                items.append('slimy dagger')\n",
    "            else:\n",
    "                print(\"You fell into a trap and lost 2 health points.\")\n",
    "                health_points -= 2\n",
    "        elif choice == 'right':\n",
    "            # Encounter with the ghost for the right path\n",
    "            if encounter_ghost(items):\n",
    "                print(\"You defeated the ghost and found a key!\")\n",
    "                items.append('key')\n",
    "            else:\n",
    "                print(\"You lost the battle with the ghost and lost 2 health points.\")\n",
    "                health_points -= 2\n",
    "        else:\n",
    "            print(\"Invalid choice. Please choose 'left' or 'right'.\")\n",
    "            continue\n",
    "        # Check if the adventurer has the key\n",
    "        if 'key' in items:\n",
    "            print(\"You unlocked the door and found the Treasure! Congratulations!\")\n",
    "            break\n",
    "        else:\n",
    "               print(\"You need to find the key to unlock the door and reach the Treasure. Continue your adventure.\")\n",
    "\n",
    "    if health_points <= 0:\n",
    "        print(\"Game over, you lost all your health points.\")\n",
    "    "
   ]
  },
  {
   "cell_type": "markdown",
   "id": "9e13a33c-38e5-44b3-bd1b-9a642c962c89",
   "metadata": {},
   "source": [
    "To run the game, simply call the run_mansion() function:"
   ]
  },
  {
   "cell_type": "code",
   "execution_count": null,
   "id": "f238dc90-0be2-4d8c-93e9-30a1dc8a5b72",
   "metadata": {
    "scrolled": false
   },
   "outputs": [],
   "source": [
    "run_mansion()"
   ]
  },
  {
   "cell_type": "markdown",
   "id": "88212f63-3bdb-479f-bf6c-4ecd0685d39a",
   "metadata": {},
   "source": [
    "This should print the game's narrative and prompt the user to make choices and fight ghosts. The game ends when the adventurer finds the key or loses all their health points. "
   ]
  }
 ],
 "metadata": {
  "kernelspec": {
   "display_name": "Python 3 (ipykernel)",
   "language": "python",
   "name": "python3"
  },
  "language_info": {
   "codemirror_mode": {
    "name": "ipython",
    "version": 3
   },
   "file_extension": ".py",
   "mimetype": "text/x-python",
   "name": "python",
   "nbconvert_exporter": "python",
   "pygments_lexer": "ipython3",
   "version": "3.11.5"
  },
  "toc": {
   "base_numbering": 1,
   "nav_menu": {},
   "number_sections": true,
   "sideBar": true,
   "skip_h1_title": false,
   "title_cell": "Table of Contents",
   "title_sidebar": "Contents",
   "toc_cell": false,
   "toc_position": {},
   "toc_section_display": true,
   "toc_window_display": false
  }
 },
 "nbformat": 4,
 "nbformat_minor": 5
}
